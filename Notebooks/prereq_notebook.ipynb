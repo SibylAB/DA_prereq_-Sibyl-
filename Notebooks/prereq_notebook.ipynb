{
 "cells": [
  {
   "cell_type": "code",
   "execution_count": null,
   "id": "307a4731",
   "metadata": {},
   "outputs": [],
   "source": [
    "print('Hello, Code:You!')"
   ]
  },
  {
   "cell_type": "code",
   "execution_count": null,
   "id": "fa4a3933",
   "metadata": {},
   "outputs": [],
   "source": [
    "print('My name is Sibyl.')\n",
    "print('My hobbies are drawing. And I like to play video games.')\n",
    "print('I really hope to learn more in the Data Analysis pathway and get grasp on loops, making data, and getting creative')\n",
    "print('I am looking forward to learning aboud programs like Panda and learning more about loops and lists, splice, etc.')"
   ]
  }
 ],
 "metadata": {
  "language_info": {
   "name": "python"
  }
 },
 "nbformat": 4,
 "nbformat_minor": 5
}
